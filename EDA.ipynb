{
 "cells": [
  {
   "cell_type": "code",
   "execution_count": 2,
   "id": "cd07efe8",
   "metadata": {},
   "outputs": [],
   "source": [
    "import numpy as np\n",
    "import pandas as pd\n",
    "import seaborn as sns\n",
    "import matplotlib.pyplot as plt"
   ]
  },
  {
   "cell_type": "code",
   "execution_count": 3,
   "id": "e4bc9354",
   "metadata": {},
   "outputs": [
    {
     "data": {
      "text/plain": [
       "(404290, 6)"
      ]
     },
     "execution_count": 3,
     "metadata": {},
     "output_type": "execute_result"
    }
   ],
   "source": [
    "df=pd.read_csv(\"train.csv\")\n",
    "df.shape"
   ]
  },
  {
   "cell_type": "code",
   "execution_count": 4,
   "id": "516ee750",
   "metadata": {},
   "outputs": [
    {
     "data": {
      "text/html": [
       "<div>\n",
       "<style scoped>\n",
       "    .dataframe tbody tr th:only-of-type {\n",
       "        vertical-align: middle;\n",
       "    }\n",
       "\n",
       "    .dataframe tbody tr th {\n",
       "        vertical-align: top;\n",
       "    }\n",
       "\n",
       "    .dataframe thead th {\n",
       "        text-align: right;\n",
       "    }\n",
       "</style>\n",
       "<table border=\"1\" class=\"dataframe\">\n",
       "  <thead>\n",
       "    <tr style=\"text-align: right;\">\n",
       "      <th></th>\n",
       "      <th>id</th>\n",
       "      <th>qid1</th>\n",
       "      <th>qid2</th>\n",
       "      <th>question1</th>\n",
       "      <th>question2</th>\n",
       "      <th>is_duplicate</th>\n",
       "    </tr>\n",
       "  </thead>\n",
       "  <tbody>\n",
       "    <tr>\n",
       "      <th>248070</th>\n",
       "      <td>248070</td>\n",
       "      <td>361424</td>\n",
       "      <td>361425</td>\n",
       "      <td>What are the effects of oxymorons in poetry? W...</td>\n",
       "      <td>What are examples of structured poetry?</td>\n",
       "      <td>0</td>\n",
       "    </tr>\n",
       "    <tr>\n",
       "      <th>258785</th>\n",
       "      <td>258785</td>\n",
       "      <td>374423</td>\n",
       "      <td>374424</td>\n",
       "      <td>How can I set up a DC++ network in college wif...</td>\n",
       "      <td>What are ways to Configure DC++ for Home Wifi ...</td>\n",
       "      <td>0</td>\n",
       "    </tr>\n",
       "    <tr>\n",
       "      <th>213153</th>\n",
       "      <td>213153</td>\n",
       "      <td>318409</td>\n",
       "      <td>318410</td>\n",
       "      <td>What does it mean when they are advertising an...</td>\n",
       "      <td>What is the take home pay on $160,000 salary i...</td>\n",
       "      <td>0</td>\n",
       "    </tr>\n",
       "    <tr>\n",
       "      <th>3941</th>\n",
       "      <td>3941</td>\n",
       "      <td>7806</td>\n",
       "      <td>7807</td>\n",
       "      <td>Which is the best gaming laptop under 40k?</td>\n",
       "      <td>Which is the best gaming laptop under 40,000 rs?</td>\n",
       "      <td>1</td>\n",
       "    </tr>\n",
       "    <tr>\n",
       "      <th>150245</th>\n",
       "      <td>150245</td>\n",
       "      <td>236501</td>\n",
       "      <td>236502</td>\n",
       "      <td>What would you do if you had $100 million doll...</td>\n",
       "      <td>What can you do/build with 100 million dollars?</td>\n",
       "      <td>1</td>\n",
       "    </tr>\n",
       "    <tr>\n",
       "      <th>107084</th>\n",
       "      <td>107084</td>\n",
       "      <td>176253</td>\n",
       "      <td>176254</td>\n",
       "      <td>Is there any specific way to write answers in ...</td>\n",
       "      <td>How do I score well in CBSE XII arts subject b...</td>\n",
       "      <td>0</td>\n",
       "    </tr>\n",
       "    <tr>\n",
       "      <th>48769</th>\n",
       "      <td>48769</td>\n",
       "      <td>86898</td>\n",
       "      <td>86899</td>\n",
       "      <td>Why are Germans obsessed with putting \"GmbH\" o...</td>\n",
       "      <td>How come download for offline viewing later on...</td>\n",
       "      <td>0</td>\n",
       "    </tr>\n",
       "    <tr>\n",
       "      <th>49053</th>\n",
       "      <td>49053</td>\n",
       "      <td>87347</td>\n",
       "      <td>87348</td>\n",
       "      <td>Is 300 KWD/month salary sufficient for living ...</td>\n",
       "      <td>Is 650 KWD/month salary sufficient for living ...</td>\n",
       "      <td>0</td>\n",
       "    </tr>\n",
       "    <tr>\n",
       "      <th>255303</th>\n",
       "      <td>255303</td>\n",
       "      <td>370177</td>\n",
       "      <td>370178</td>\n",
       "      <td>Is it possible for cows and goats eating fruits?</td>\n",
       "      <td>One assist insurance?</td>\n",
       "      <td>0</td>\n",
       "    </tr>\n",
       "    <tr>\n",
       "      <th>185439</th>\n",
       "      <td>185439</td>\n",
       "      <td>283098</td>\n",
       "      <td>283099</td>\n",
       "      <td>How different would the world be if the theory...</td>\n",
       "      <td>What would happen if science and military swap...</td>\n",
       "      <td>0</td>\n",
       "    </tr>\n",
       "  </tbody>\n",
       "</table>\n",
       "</div>"
      ],
      "text/plain": [
       "            id    qid1    qid2  \\\n",
       "248070  248070  361424  361425   \n",
       "258785  258785  374423  374424   \n",
       "213153  213153  318409  318410   \n",
       "3941      3941    7806    7807   \n",
       "150245  150245  236501  236502   \n",
       "107084  107084  176253  176254   \n",
       "48769    48769   86898   86899   \n",
       "49053    49053   87347   87348   \n",
       "255303  255303  370177  370178   \n",
       "185439  185439  283098  283099   \n",
       "\n",
       "                                                question1  \\\n",
       "248070  What are the effects of oxymorons in poetry? W...   \n",
       "258785  How can I set up a DC++ network in college wif...   \n",
       "213153  What does it mean when they are advertising an...   \n",
       "3941           Which is the best gaming laptop under 40k?   \n",
       "150245  What would you do if you had $100 million doll...   \n",
       "107084  Is there any specific way to write answers in ...   \n",
       "48769   Why are Germans obsessed with putting \"GmbH\" o...   \n",
       "49053   Is 300 KWD/month salary sufficient for living ...   \n",
       "255303   Is it possible for cows and goats eating fruits?   \n",
       "185439  How different would the world be if the theory...   \n",
       "\n",
       "                                                question2  is_duplicate  \n",
       "248070            What are examples of structured poetry?             0  \n",
       "258785  What are ways to Configure DC++ for Home Wifi ...             0  \n",
       "213153  What is the take home pay on $160,000 salary i...             0  \n",
       "3941     Which is the best gaming laptop under 40,000 rs?             1  \n",
       "150245    What can you do/build with 100 million dollars?             1  \n",
       "107084  How do I score well in CBSE XII arts subject b...             0  \n",
       "48769   How come download for offline viewing later on...             0  \n",
       "49053   Is 650 KWD/month salary sufficient for living ...             0  \n",
       "255303                              One assist insurance?             0  \n",
       "185439  What would happen if science and military swap...             0  "
      ]
     },
     "execution_count": 4,
     "metadata": {},
     "output_type": "execute_result"
    }
   ],
   "source": [
    "df.sample(10)"
   ]
  },
  {
   "cell_type": "code",
   "execution_count": 5,
   "id": "cec07e1f",
   "metadata": {},
   "outputs": [
    {
     "name": "stdout",
     "output_type": "stream",
     "text": [
      "<class 'pandas.core.frame.DataFrame'>\n",
      "RangeIndex: 404290 entries, 0 to 404289\n",
      "Data columns (total 6 columns):\n",
      " #   Column        Non-Null Count   Dtype \n",
      "---  ------        --------------   ----- \n",
      " 0   id            404290 non-null  int64 \n",
      " 1   qid1          404290 non-null  int64 \n",
      " 2   qid2          404290 non-null  int64 \n",
      " 3   question1     404289 non-null  object\n",
      " 4   question2     404288 non-null  object\n",
      " 5   is_duplicate  404290 non-null  int64 \n",
      "dtypes: int64(4), object(2)\n",
      "memory usage: 18.5+ MB\n"
     ]
    }
   ],
   "source": [
    "df.info()"
   ]
  },
  {
   "cell_type": "code",
   "execution_count": 6,
   "id": "ad0a8112",
   "metadata": {},
   "outputs": [
    {
     "data": {
      "text/plain": [
       "id              0\n",
       "qid1            0\n",
       "qid2            0\n",
       "question1       1\n",
       "question2       2\n",
       "is_duplicate    0\n",
       "dtype: int64"
      ]
     },
     "execution_count": 6,
     "metadata": {},
     "output_type": "execute_result"
    }
   ],
   "source": [
    "df.isnull().sum()"
   ]
  },
  {
   "cell_type": "code",
   "execution_count": 7,
   "id": "6f1a3672",
   "metadata": {},
   "outputs": [
    {
     "data": {
      "text/plain": [
       "0"
      ]
     },
     "execution_count": 7,
     "metadata": {},
     "output_type": "execute_result"
    }
   ],
   "source": [
    "df.duplicated().sum()"
   ]
  },
  {
   "cell_type": "code",
   "execution_count": 12,
   "id": "5a8b7715",
   "metadata": {},
   "outputs": [
    {
     "name": "stdout",
     "output_type": "stream",
     "text": [
      "is_duplicate\n",
      "0    255027\n",
      "1    149263\n",
      "Name: count, dtype: int64\n",
      "is_duplicate\n",
      "0    63.080215\n",
      "1    36.919785\n",
      "Name: count, dtype: float64\n"
     ]
    },
    {
     "data": {
      "text/plain": [
       "<Axes: xlabel='is_duplicate'>"
      ]
     },
     "execution_count": 12,
     "metadata": {},
     "output_type": "execute_result"
    },
    {
     "data": {
      "image/png": "[encoded data removed]",
      "text/plain": [
       "<Figure size 640x480 with 1 Axes>"
      ]
     },
     "metadata": {},
     "output_type": "display_data"
    }
   ],
   "source": [
    "#distribution b/w duplicate and non-duplicate questions\n",
    "\n",
    "print(df['is_duplicate'].value_counts())\n",
    "print((df['is_duplicate'].value_counts()/df['is_duplicate'].count())*100)\n",
    "df['is_duplicate'].value_counts().plot(kind='bar')"
   ]
  },
  {
   "cell_type": "code",
   "execution_count": 9,
   "id": "2ea01578",
   "metadata": {},
   "outputs": [
    {
     "name": "stdout",
     "output_type": "stream",
     "text": [
      "Number of unique questions 537933\n",
      "Number of questions getting repeated 111780\n"
     ]
    }
   ],
   "source": [
    "# Repeated Quetions\n",
    "qid=pd.Series(df['qid1'].tolist() + df['qid2'].tolist())\n",
    "print('Number of unique questions', np.unique(qid).shape[0])\n",
    "x=qid.value_counts()>1\n",
    "print('Number of questions getting repeated',x[x].shape[0])"
   ]
  },
  {
   "cell_type": "code",
   "execution_count": 10,
   "id": "e351c30f",
   "metadata": {},
   "outputs": [
    {
     "data": {
      "text/plain": [
       "537933"
      ]
     },
     "execution_count": 10,
     "metadata": {},
     "output_type": "execute_result"
    }
   ],
   "source": [
    "np.unique(qid).shape[0]"
   ]
  },
  {
   "cell_type": "code",
   "execution_count": 11,
   "id": "1cefaaaf",
   "metadata": {},
   "outputs": [
    {
     "data": {
      "image/png": "[encoded data removed]",
      "text/plain": [
       "<Figure size 640x480 with 1 Axes>"
      ]
     },
     "metadata": {},
     "output_type": "display_data"
    }
   ],
   "source": [
    "# repeated questions histogram\n",
    "plt.hist(qid.value_counts().values,bins=100)\n",
    "plt.yscale('log')\n",
    "plt.show()"
   ]
  },
  {
   "cell_type": "code",
   "execution_count": null,
   "id": "19229011",
   "metadata": {},
   "outputs": [],
   "source": []
  },
  {
   "cell_type": "code",
   "execution_count": null,
   "id": "d2bc49a1",
   "metadata": {},
   "outputs": [],
   "source": []
  },
  {
   "cell_type": "code",
   "execution_count": null,
   "id": "d7d4cc98",
   "metadata": {},
   "outputs": [],
   "source": []
  },
  {
   "cell_type": "code",
   "execution_count": null,
   "id": "42698fe9",
   "metadata": {},
   "outputs": [],
   "source": []
  },
  {
   "cell_type": "code",
   "execution_count": null,
   "id": "8242abeb",
   "metadata": {},
   "outputs": [],
   "source": []
  }
 ],
 "metadata": {
  "kernelspec": {
   "display_name": "Python 3 (ipykernel)",
   "language": "python",
   "name": "python3"
  },
  "language_info": {
   "codemirror_mode": {
    "name": "ipython",
    "version": 3
   },
   "file_extension": ".py",
   "mimetype": "text/x-python",
   "name": "python",
   "nbconvert_exporter": "python",
   "pygments_lexer": "ipython3",
   "version": "3.9.6"
  }
 },
 "nbformat": 4,
 "nbformat_minor": 5
}
